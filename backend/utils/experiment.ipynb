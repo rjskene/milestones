{
  "cells": [
    {
      "cell_type": "markdown",
      "metadata": {},
      "source": [
        "# Utils Package Experimentation Notebook\n",
        "\n",
        "This notebook provides an interactive environment to experiment with the utils package functions.\n",
        "\n",
        "## Setup\n",
        "First, let's import the utility functions and set up some test data.\n"
      ]
    },
    {
      "cell_type": "code",
      "execution_count": null,
      "metadata": {},
      "outputs": [],
      "source": [
        "# Import utility functions\n",
        "from utils.calculations import (\n",
        "    calculate_payment_schedule,\n",
        "    calculate_unit_price,\n",
        "    calculate_total_payment_percentage,\n",
        "    calculate_compound_interest\n",
        ")\n",
        "\n",
        "from utils.validators import (\n",
        "    validate_payment_percentages,\n",
        "    validate_equipment_sale_data,\n",
        "    validate_date_format,\n",
        "    validate_decimal_range\n",
        ")\n",
        "\n",
        "from utils.formatters import (\n",
        "    format_currency,\n",
        "    format_percentage,\n",
        "    format_date_range,\n",
        "    format_milestone_summary,\n",
        "    format_equipment_summary\n",
        ")\n",
        "\n",
        "from utils.helpers import (\n",
        "    get_current_date_string,\n",
        "    add_days_to_date,\n",
        "    get_business_days_between,\n",
        "    is_weekend\n",
        ")\n",
        "\n",
        "from decimal import Decimal\n",
        "import json\n"
      ]
    },
    {
      "cell_type": "markdown",
      "metadata": {},
      "source": [
        "## Test Data Setup\n",
        "Let's create some sample data to work with.\n"
      ]
    },
    {
      "cell_type": "code",
      "execution_count": null,
      "metadata": {},
      "outputs": [],
      "source": [
        "# Sample milestone structure\n",
        "sample_milestones = [\n",
        "    {\n",
        "        'name': 'Down Payment',\n",
        "        'payment_percentage': 30,\n",
        "        'days_after_previous': 0,\n",
        "        'net_terms_days': 0\n",
        "    },\n",
        "    {\n",
        "        'name': 'Progress Payment',\n",
        "        'payment_percentage': 50,\n",
        "        'days_after_previous': 30,\n",
        "        'net_terms_days': 15\n",
        "    },\n",
        "    {\n",
        "        'name': 'Final Payment',\n",
        "        'payment_percentage': 20,\n",
        "        'days_after_previous': 60,\n",
        "        'net_terms_days': 30\n",
        "    }\n",
        "]\n",
        "\n",
        "# Sample equipment data\n",
        "sample_equipment = {\n",
        "    'name': 'Industrial Mixer Model X-2000',\n",
        "    'quantity': 5,\n",
        "    'total_amount': Decimal('125000.00'),\n",
        "    'vendor': 'ABC Equipment Co.'\n",
        "}\n",
        "\n",
        "# Sample project dates\n",
        "project_start_date = '2024-01-15'\n",
        "project_end_date = '2024-06-15'\n",
        "\n",
        "print(\"Sample data created successfully!\")\n",
        "print(f\"Equipment: {sample_equipment['name']}\")\n",
        "print(f\"Total Amount: {format_currency(sample_equipment['total_amount'])}\")\n",
        "print(f\"Project Start: {project_start_date}\")\n"
      ]
    }
  ],
  "metadata": {
    "kernelspec": {
      "display_name": "Python 3",
      "language": "python",
      "name": "python3"
    },
    "language_info": {
      "name": "python",
      "version": "3.13.7"
    }
  },
  "nbformat": 4,
  "nbformat_minor": 2
}
